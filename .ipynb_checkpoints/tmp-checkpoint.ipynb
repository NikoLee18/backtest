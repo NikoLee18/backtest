{
 "cells": [
  {
   "cell_type": "code",
   "execution_count": 6,
   "metadata": {
    "collapsed": true,
    "pycharm": {
     "name": "#%%\n"
    }
   },
   "outputs": [
    {
     "data": {
      "text/plain": "            002603.XSHE  000001.XSHE  pos\n2021-03-12     0.068027          NaN    1\n2021-03-18          NaN     0.047326    1\n2021-03-24     0.060241          NaN    1\n2021-03-30          NaN     0.047148    1\n2021-04-06     0.059102          NaN    1\n2021-04-12          NaN     0.046860    1\n2021-04-16     0.056754          NaN    1\n2021-04-22          NaN     0.043459    1\n2021-04-28     0.052770          NaN    1\n2021-05-07          NaN     0.042571    1\n2021-05-13     0.053706          NaN    1",
      "text/html": "<div>\n<style scoped>\n    .dataframe tbody tr th:only-of-type {\n        vertical-align: middle;\n    }\n\n    .dataframe tbody tr th {\n        vertical-align: top;\n    }\n\n    .dataframe thead th {\n        text-align: right;\n    }\n</style>\n<table border=\"1\" class=\"dataframe\">\n  <thead>\n    <tr style=\"text-align: right;\">\n      <th></th>\n      <th>002603.XSHE</th>\n      <th>000001.XSHE</th>\n      <th>pos</th>\n    </tr>\n  </thead>\n  <tbody>\n    <tr>\n      <th>2021-03-12</th>\n      <td>0.068027</td>\n      <td>NaN</td>\n      <td>1</td>\n    </tr>\n    <tr>\n      <th>2021-03-18</th>\n      <td>NaN</td>\n      <td>0.047326</td>\n      <td>1</td>\n    </tr>\n    <tr>\n      <th>2021-03-24</th>\n      <td>0.060241</td>\n      <td>NaN</td>\n      <td>1</td>\n    </tr>\n    <tr>\n      <th>2021-03-30</th>\n      <td>NaN</td>\n      <td>0.047148</td>\n      <td>1</td>\n    </tr>\n    <tr>\n      <th>2021-04-06</th>\n      <td>0.059102</td>\n      <td>NaN</td>\n      <td>1</td>\n    </tr>\n    <tr>\n      <th>2021-04-12</th>\n      <td>NaN</td>\n      <td>0.046860</td>\n      <td>1</td>\n    </tr>\n    <tr>\n      <th>2021-04-16</th>\n      <td>0.056754</td>\n      <td>NaN</td>\n      <td>1</td>\n    </tr>\n    <tr>\n      <th>2021-04-22</th>\n      <td>NaN</td>\n      <td>0.043459</td>\n      <td>1</td>\n    </tr>\n    <tr>\n      <th>2021-04-28</th>\n      <td>0.052770</td>\n      <td>NaN</td>\n      <td>1</td>\n    </tr>\n    <tr>\n      <th>2021-05-07</th>\n      <td>NaN</td>\n      <td>0.042571</td>\n      <td>1</td>\n    </tr>\n    <tr>\n      <th>2021-05-13</th>\n      <td>0.053706</td>\n      <td>NaN</td>\n      <td>1</td>\n    </tr>\n  </tbody>\n</table>\n</div>"
     },
     "execution_count": 6,
     "metadata": {},
     "output_type": "execute_result"
    }
   ],
   "source": [
    "import pandas as pd\n",
    "path = 'testing/2021-03-12.xlsx'\n",
    "\n",
    "df = pd.read_excel(path, index_col=0)\n",
    "colu = df.columns.tolist()\n",
    "colu.remove('pos')\n",
    "colu.append('pos')\n",
    "\n",
    "df = df[colu]\n",
    "\n",
    "df"
   ]
  },
  {
   "cell_type": "code",
   "execution_count": null,
   "outputs": [],
   "source": [
    "df.fillna(value=0, inplace=True)\n",
    "df"
   ],
   "metadata": {
    "collapsed": false,
    "pycharm": {
     "name": "#%%\n"
    }
   }
  },
  {
   "cell_type": "code",
   "execution_count": 44,
   "outputs": [],
   "source": [
    "import pymongo\n",
    "db = pymongo.MongoClient(host='LocalHost', port=27017).get_database('daily')"
   ],
   "metadata": {
    "collapsed": false,
    "pycharm": {
     "name": "#%%\n"
    }
   }
  },
  {
   "cell_type": "code",
   "execution_count": 59,
   "outputs": [
    {
     "data": {
      "text/plain": "            code       date   open  close\n0    000001.XSHE 2021-12-24  17.33  17.31\n1    000001.XSHE 2021-12-23  17.40  17.32\n2    000001.XSHE 2021-12-22  17.62  17.39\n3    000001.XSHE 2021-12-21  17.49  17.59\n4    000001.XSHE 2021-12-20  17.56  17.52\n..           ...        ...    ...    ...\n709  600048.XSHG 2021-01-08  14.07  14.27\n710  600048.XSHG 2021-01-07  14.31  14.15\n711  600048.XSHG 2021-01-06  14.11  14.31\n712  600048.XSHG 2021-01-05  14.27  14.18\n713  600048.XSHG 2021-01-04  14.73  14.36\n\n[714 rows x 4 columns]",
      "text/html": "<div>\n<style scoped>\n    .dataframe tbody tr th:only-of-type {\n        vertical-align: middle;\n    }\n\n    .dataframe tbody tr th {\n        vertical-align: top;\n    }\n\n    .dataframe thead th {\n        text-align: right;\n    }\n</style>\n<table border=\"1\" class=\"dataframe\">\n  <thead>\n    <tr style=\"text-align: right;\">\n      <th></th>\n      <th>code</th>\n      <th>date</th>\n      <th>open</th>\n      <th>close</th>\n    </tr>\n  </thead>\n  <tbody>\n    <tr>\n      <th>0</th>\n      <td>000001.XSHE</td>\n      <td>2021-12-24</td>\n      <td>17.33</td>\n      <td>17.31</td>\n    </tr>\n    <tr>\n      <th>1</th>\n      <td>000001.XSHE</td>\n      <td>2021-12-23</td>\n      <td>17.40</td>\n      <td>17.32</td>\n    </tr>\n    <tr>\n      <th>2</th>\n      <td>000001.XSHE</td>\n      <td>2021-12-22</td>\n      <td>17.62</td>\n      <td>17.39</td>\n    </tr>\n    <tr>\n      <th>3</th>\n      <td>000001.XSHE</td>\n      <td>2021-12-21</td>\n      <td>17.49</td>\n      <td>17.59</td>\n    </tr>\n    <tr>\n      <th>4</th>\n      <td>000001.XSHE</td>\n      <td>2021-12-20</td>\n      <td>17.56</td>\n      <td>17.52</td>\n    </tr>\n    <tr>\n      <th>...</th>\n      <td>...</td>\n      <td>...</td>\n      <td>...</td>\n      <td>...</td>\n    </tr>\n    <tr>\n      <th>709</th>\n      <td>600048.XSHG</td>\n      <td>2021-01-08</td>\n      <td>14.07</td>\n      <td>14.27</td>\n    </tr>\n    <tr>\n      <th>710</th>\n      <td>600048.XSHG</td>\n      <td>2021-01-07</td>\n      <td>14.31</td>\n      <td>14.15</td>\n    </tr>\n    <tr>\n      <th>711</th>\n      <td>600048.XSHG</td>\n      <td>2021-01-06</td>\n      <td>14.11</td>\n      <td>14.31</td>\n    </tr>\n    <tr>\n      <th>712</th>\n      <td>600048.XSHG</td>\n      <td>2021-01-05</td>\n      <td>14.27</td>\n      <td>14.18</td>\n    </tr>\n    <tr>\n      <th>713</th>\n      <td>600048.XSHG</td>\n      <td>2021-01-04</td>\n      <td>14.73</td>\n      <td>14.36</td>\n    </tr>\n  </tbody>\n</table>\n<p>714 rows × 4 columns</p>\n</div>"
     },
     "execution_count": 59,
     "metadata": {},
     "output_type": "execute_result"
    }
   ],
   "source": [
    "# 从MongoDB取出数据\n",
    "col = db.get_collection('daily')\n",
    "data = col.find({\n",
    "    'code': {'$in': ['600048.XSHG', '000001.XSHE', '000002.XSHE', '600000.XSHE']},\n",
    "    'date': {'$gte': pd.to_datetime('2021-01-04'), '$lte': pd.to_datetime('2021-12-31')}          # 最后一列是持现金比例\n",
    "}, projection={'_id': 0, 'high':0, 'low': 0, 'volume':0, 'money':0, 'factor':0})\n",
    "data = pd.DataFrame(list(data))\n",
    "data\n"
   ],
   "metadata": {
    "collapsed": false,
    "pycharm": {
     "name": "#%%\n"
    }
   }
  },
  {
   "cell_type": "code",
   "execution_count": 113,
   "outputs": [],
   "source": [
    "import os\n",
    "class PnL:\n",
    "\n",
    "    def __init__(self, path:str, start_date:str, end_date:str, host='LocalHost', port=27017):\n",
    "        # 创建好与mongodb的连接。  我们归因只用到日频\n",
    "        self.client = pymongo.MongoClient(host=host, port=port)\n",
    "        db = self.client.get_database('daily')\n",
    "        self.db = db\n",
    "        col0 = db.get_collection('tradedays')\n",
    "\n",
    "        col0 = col0.find({'date':{\n",
    "            \"$gte\": pd.to_datetime(start_date),\n",
    "            \"$lte\": pd.to_datetime(end_date)\n",
    "        }})\n",
    "        self.tradedays = [i['date'] for i in col0]\n",
    "\n",
    "        # 先把原始的pnl数据读取出来\n",
    "        re = []\n",
    "        files = os.listdir(path)\n",
    "        for f in files:\n",
    "            re.append(pd.read_excel(path+'/'+f, index_col=0))\n",
    "        raw = pd.concat(re)\n",
    "\n",
    "        # 记录下调仓日\n",
    "        self.adj_days = raw.index\n",
    "\n",
    "        # 调整原始数据的形式\n",
    "        column = raw.columns.tolist()\n",
    "        column.remove('pos'); column.append('pos')\n",
    "        self.hold = raw.loc[:, column]\n",
    "        self.hold.columns = column[:-1] + ['cash']\n",
    "        self.hold.loc[:,'cash'] = 1 - self.hold.loc[:,'cash']\n",
    "\n",
    "        # 现在开始调整self.hold的形式\n",
    "        self.hold.fillna(value=0, inplace=True)\n",
    "        self.hold = pd.DataFrame(data=self.hold, index = self.tradedays)\n",
    "        self.hold.fillna(method='ffill', inplace=True)\n",
    "\n",
    "\n",
    "    def generate_portfolio_ret(self, method=None):\n",
    "        # 从MongoDB取出数据\n",
    "        col = self.db.get_collection('daily')\n",
    "        data = col.find({\n",
    "            'code': {'$in': self.hold.columns.tolist()[:-1]},\n",
    "            'date': {'$gte': self.tradedays[0], '$lte': self.tradedays[-1]}          # 最后一列是持现金比例\n",
    "        }, projection={'_id': 0, 'code':1, 'date':1, 'close':1})\n",
    "        data = pd.DataFrame(list(data))\n",
    "        # 整理成需要的dataframe样子\n",
    "        data = _reformater_(data)\n",
    "\n",
    "        df = data * self.hold\n",
    "        for i in range(1, len(self.adj_days)):\n",
    "            ii = self.adj_days[i]\n",
    "\n",
    "            d = df.index.tolist().index(ii)\n",
    "            try:\n",
    "                ni = self.adj_days[i+1]\n",
    "                nd = df.index.tolist().index(ni)\n",
    "                df.iloc[d: nd-1] = df.iloc[d: nd-1] * df.iloc[d-1].sum()\n",
    "            except IndexError:\n",
    "                df.iloc[d: ] = df.iloc[d: ] * df.iloc[d-1].sum()\n",
    "\n",
    "        self.portfolio_value = df\n",
    "        return df\n",
    "\n",
    "    def\n",
    "\n",
    "\n",
    "    def sharpe_ratio(self):\n",
    "        pass\n",
    "\n",
    "    def calmar_ratio\n",
    "\n",
    "\n",
    "\n",
    "\n",
    "\n",
    "\n",
    "\n",
    "def _reformater_(data: pd.DataFrame):\n",
    "    secs = data.code.drop_duplicates().tolist()\n",
    "    indexes = data.date.drop_duplicates().tolist()\n",
    "    df_re = pd.DataFrame(columns=secs+['cash'], index=indexes)\n",
    "\n",
    "    for s in secs:\n",
    "        tmp = data.loc[(data.code==s),['date', 'close']]\n",
    "        tmp.index = tmp.date.tolist(); tmp.drop(labels='date', axis=1,inplace=True)\n",
    "        df_re.loc[:,s] = tmp.values\n",
    "    df_re.loc[:, 'cash'] = 1\n",
    "    return df_re\n",
    "\n",
    "\n",
    "\n",
    "\n"
   ],
   "metadata": {
    "collapsed": false,
    "pycharm": {
     "name": "#%%\n"
    }
   }
  },
  {
   "cell_type": "code",
   "execution_count": 161,
   "outputs": [],
   "source": [
    "obj = PnL(path='testing', start_date='2021-01-04', end_date='2021-10-01')\n",
    "obj.generate_portfolio_ret()\n",
    "\n"
   ],
   "metadata": {
    "collapsed": false,
    "pycharm": {
     "name": "#%%\n"
    }
   }
  },
  {
   "cell_type": "code",
   "execution_count": 227,
   "outputs": [],
   "source": [
    "df = obj.hold * obj.tmp"
   ],
   "metadata": {
    "collapsed": false,
    "pycharm": {
     "name": "#%%\n"
    }
   }
  },
  {
   "cell_type": "code",
   "execution_count": 228,
   "outputs": [],
   "source": [
    "# 初次调仓不用管，从第二次开始调整\n",
    "for i in range(1, len(obj.adj_days)):\n",
    "\n",
    "    ii = obj.adj_days[i]\n",
    "\n",
    "    d = df.index.tolist().index(ii)\n",
    "    try:\n",
    "        ni = obj.adj_days[i+1]\n",
    "        nd = df.index.tolist().index(ni)\n",
    "        df.iloc[d: nd-1] = df.iloc[d: nd-1] * df.iloc[d-1].sum()\n",
    "    except IndexError:\n",
    "        df.iloc[d: ] = df.iloc[d: ] * df.iloc[d-1].sum()\n"
   ],
   "metadata": {
    "collapsed": false,
    "pycharm": {
     "name": "#%%\n"
    }
   }
  },
  {
   "cell_type": "code",
   "execution_count": 229,
   "outputs": [
    {
     "data": {
      "text/plain": "            000001.XSHE  002603.XSHE  cash\n2021-01-04     0.000000     0.992222   0.0\n2021-01-05     0.000000     1.015000   0.0\n2021-01-06     0.000000     1.116667   0.0\n2021-01-07     0.000000     1.093889   0.0\n2021-01-08     1.091672     0.000000   0.0\n...                 ...          ...   ...\n2021-09-24     0.000000     0.913372   0.0\n2021-09-27     0.000000     0.903752   0.0\n2021-09-28     0.000000     0.980221   0.0\n2021-09-29     0.996137     0.000000   0.0\n2021-09-30     0.984063     0.000000   0.0\n\n[182 rows x 3 columns]",
      "text/html": "<div>\n<style scoped>\n    .dataframe tbody tr th:only-of-type {\n        vertical-align: middle;\n    }\n\n    .dataframe tbody tr th {\n        vertical-align: top;\n    }\n\n    .dataframe thead th {\n        text-align: right;\n    }\n</style>\n<table border=\"1\" class=\"dataframe\">\n  <thead>\n    <tr style=\"text-align: right;\">\n      <th></th>\n      <th>000001.XSHE</th>\n      <th>002603.XSHE</th>\n      <th>cash</th>\n    </tr>\n  </thead>\n  <tbody>\n    <tr>\n      <th>2021-01-04</th>\n      <td>0.000000</td>\n      <td>0.992222</td>\n      <td>0.0</td>\n    </tr>\n    <tr>\n      <th>2021-01-05</th>\n      <td>0.000000</td>\n      <td>1.015000</td>\n      <td>0.0</td>\n    </tr>\n    <tr>\n      <th>2021-01-06</th>\n      <td>0.000000</td>\n      <td>1.116667</td>\n      <td>0.0</td>\n    </tr>\n    <tr>\n      <th>2021-01-07</th>\n      <td>0.000000</td>\n      <td>1.093889</td>\n      <td>0.0</td>\n    </tr>\n    <tr>\n      <th>2021-01-08</th>\n      <td>1.091672</td>\n      <td>0.000000</td>\n      <td>0.0</td>\n    </tr>\n    <tr>\n      <th>...</th>\n      <td>...</td>\n      <td>...</td>\n      <td>...</td>\n    </tr>\n    <tr>\n      <th>2021-09-24</th>\n      <td>0.000000</td>\n      <td>0.913372</td>\n      <td>0.0</td>\n    </tr>\n    <tr>\n      <th>2021-09-27</th>\n      <td>0.000000</td>\n      <td>0.903752</td>\n      <td>0.0</td>\n    </tr>\n    <tr>\n      <th>2021-09-28</th>\n      <td>0.000000</td>\n      <td>0.980221</td>\n      <td>0.0</td>\n    </tr>\n    <tr>\n      <th>2021-09-29</th>\n      <td>0.996137</td>\n      <td>0.000000</td>\n      <td>0.0</td>\n    </tr>\n    <tr>\n      <th>2021-09-30</th>\n      <td>0.984063</td>\n      <td>0.000000</td>\n      <td>0.0</td>\n    </tr>\n  </tbody>\n</table>\n<p>182 rows × 3 columns</p>\n</div>"
     },
     "execution_count": 229,
     "metadata": {},
     "output_type": "execute_result"
    }
   ],
   "source": [
    "df"
   ],
   "metadata": {
    "collapsed": false,
    "pycharm": {
     "name": "#%%\n"
    }
   }
  },
  {
   "cell_type": "code",
   "execution_count": 222,
   "outputs": [
    {
     "data": {
      "text/plain": "Timestamp('2021-01-14 00:00:00')"
     },
     "execution_count": 222,
     "metadata": {},
     "output_type": "execute_result"
    }
   ],
   "source": [
    "ni"
   ],
   "metadata": {
    "collapsed": false,
    "pycharm": {
     "name": "#%%\n"
    }
   }
  },
  {
   "cell_type": "code",
   "execution_count": null,
   "outputs": [],
   "source": [],
   "metadata": {
    "collapsed": false,
    "pycharm": {
     "name": "#%%\n"
    }
   }
  }
 ],
 "metadata": {
  "kernelspec": {
   "name": "pycharm-1fe72178",
   "language": "python",
   "display_name": "PyCharm (US_Stock)"
  },
  "language_info": {
   "codemirror_mode": {
    "name": "ipython",
    "version": 2
   },
   "file_extension": ".py",
   "mimetype": "text/x-python",
   "name": "python",
   "nbconvert_exporter": "python",
   "pygments_lexer": "ipython2",
   "version": "2.7.6"
  }
 },
 "nbformat": 4,
 "nbformat_minor": 0
}